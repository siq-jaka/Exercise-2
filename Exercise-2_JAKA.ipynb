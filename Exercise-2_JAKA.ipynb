{
 "cells": [
  {
   "cell_type": "code",
   "execution_count": 34,
   "id": "6cd0e716-447d-4645-832c-dfc8c9ed9575",
   "metadata": {},
   "outputs": [
    {
     "name": "stdout",
     "output_type": "stream",
     "text": [
      "['lighthouse', 'Harmaja', 'Suomenlinna aaltopoiju', 'Kumpula', 'Kaisaniemi']\n",
      "['2003', '1989', '2016', '2005', '1844']\n"
     ]
    }
   ],
   "source": [
    "station_names = [\n",
    "    \"lighthouse\", \n",
    "    \"Harmaja\",\n",
    "    \"Suomenlinna aaltopoiju\",\n",
    "    \"Kumpula\",\n",
    "    \"Kaisaniemi\",\n",
    "]\n",
    "station_start_years = [\n",
    "    \"2003\",\n",
    "    \"1989\",\n",
    "    \"2016\",\n",
    "    \"2005\",\n",
    "    \"1844\",\n",
    "]\n",
    "print(station_names)\n",
    "type(station_names)\n",
    "print(station_start_years)\n",
    "assert len(station_names) == 5, 'The station_names list should have 5 items.'\n",
    "assert len(station_start_years) == 5, 'The station_start_years list should have 5 items.'"
   ]
  },
  {
   "cell_type": "code",
   "execution_count": null,
   "id": "b5100db6-470a-42f8-aad8-d230e9711fcb",
   "metadata": {
    "nbgrader": {
     "cell_type": "code",
     "checksum": "30b2defcd516fd1d0ee4fc1d2185b387",
     "grade": false,
     "grade_id": "problem_1_ag_p1_station_lists",
     "locked": false,
     "schema_version": 3,
     "solution": true,
     "task": false
    }
   },
   "outputs": [],
   "source": [
    "# Create the lists below\n",
    "station_names = None\n",
    "station_start_years = None\n",
    "# YOUR CODE HERE\n",
    "raise NotImplementedError()"
   ]
  },
  {
   "cell_type": "code",
   "execution_count": 23,
   "id": "838488c8-6e4e-4331-bf81-1d016d31fe19",
   "metadata": {},
   "outputs": [
    {
     "name": "stdout",
     "output_type": "stream",
     "text": [
      "lighthouse\n"
     ]
    }
   ],
   "source": [
    "print(station_names[0])"
   ]
  }
 ],
 "metadata": {
  "kernelspec": {
   "display_name": "Python 3",
   "language": "python",
   "name": "python3"
  },
  "language_info": {
   "codemirror_mode": {
    "name": "ipython",
    "version": 3
   },
   "file_extension": ".py",
   "mimetype": "text/x-python",
   "name": "python",
   "nbconvert_exporter": "python",
   "pygments_lexer": "ipython3",
   "version": "3.8.8"
  },
  "toc-autonumbering": true,
  "toc-showcode": true,
  "toc-showtags": true
 },
 "nbformat": 4,
 "nbformat_minor": 5
}
